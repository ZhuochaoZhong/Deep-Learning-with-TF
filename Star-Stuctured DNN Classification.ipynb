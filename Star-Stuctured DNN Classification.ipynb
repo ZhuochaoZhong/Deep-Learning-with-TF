{
 "cells": [
  {
   "cell_type": "code",
   "execution_count": 103,
   "metadata": {},
   "outputs": [],
   "source": [
    "import pandas as pd\n",
    "import numpy as np\n",
    "\n",
    "import tensorflow as tf\n",
    "\n",
    "from tensorflow import feature_column\n",
    "from tensorflow.keras import layers\n",
    "from sklearn.model_selection import train_test_split\n",
    "from sklearn import preprocessing"
   ]
  },
  {
   "cell_type": "code",
   "execution_count": 2,
   "metadata": {},
   "outputs": [],
   "source": [
    "data = pd.read_csv('stars.csv')"
   ]
  },
  {
   "cell_type": "code",
   "execution_count": 113,
   "metadata": {},
   "outputs": [
    {
     "data": {
      "text/html": [
       "<div>\n",
       "<style scoped>\n",
       "    .dataframe tbody tr th:only-of-type {\n",
       "        vertical-align: middle;\n",
       "    }\n",
       "\n",
       "    .dataframe tbody tr th {\n",
       "        vertical-align: top;\n",
       "    }\n",
       "\n",
       "    .dataframe thead th {\n",
       "        text-align: right;\n",
       "    }\n",
       "</style>\n",
       "<table border=\"1\" class=\"dataframe\">\n",
       "  <thead>\n",
       "    <tr style=\"text-align: right;\">\n",
       "      <th></th>\n",
       "      <th>temperature_k</th>\n",
       "      <th>luminosityl-lo</th>\n",
       "      <th>radiusr-ro</th>\n",
       "      <th>absolute_magnitudemv</th>\n",
       "      <th>star_type</th>\n",
       "      <th>star_color</th>\n",
       "      <th>spectral_class</th>\n",
       "    </tr>\n",
       "  </thead>\n",
       "  <tbody>\n",
       "    <tr>\n",
       "      <th>0</th>\n",
       "      <td>-0.779382</td>\n",
       "      <td>-0.598624</td>\n",
       "      <td>-0.459210</td>\n",
       "      <td>1.116745</td>\n",
       "      <td>0</td>\n",
       "      <td>Red</td>\n",
       "      <td>M</td>\n",
       "    </tr>\n",
       "    <tr>\n",
       "      <th>1</th>\n",
       "      <td>-0.782110</td>\n",
       "      <td>-0.598624</td>\n",
       "      <td>-0.459241</td>\n",
       "      <td>1.162414</td>\n",
       "      <td>0</td>\n",
       "      <td>Red</td>\n",
       "      <td>M</td>\n",
       "    </tr>\n",
       "    <tr>\n",
       "      <th>2</th>\n",
       "      <td>-0.828477</td>\n",
       "      <td>-0.598624</td>\n",
       "      <td>-0.459342</td>\n",
       "      <td>1.362213</td>\n",
       "      <td>0</td>\n",
       "      <td>Red</td>\n",
       "      <td>M</td>\n",
       "    </tr>\n",
       "    <tr>\n",
       "      <th>3</th>\n",
       "      <td>-0.807496</td>\n",
       "      <td>-0.598624</td>\n",
       "      <td>-0.459229</td>\n",
       "      <td>1.167171</td>\n",
       "      <td>0</td>\n",
       "      <td>Red</td>\n",
       "      <td>M</td>\n",
       "    </tr>\n",
       "    <tr>\n",
       "      <th>4</th>\n",
       "      <td>-0.897819</td>\n",
       "      <td>-0.598624</td>\n",
       "      <td>-0.459340</td>\n",
       "      <td>1.491607</td>\n",
       "      <td>0</td>\n",
       "      <td>Red</td>\n",
       "      <td>M</td>\n",
       "    </tr>\n",
       "  </tbody>\n",
       "</table>\n",
       "</div>"
      ],
      "text/plain": [
       "   temperature_k  luminosityl-lo  radiusr-ro  absolute_magnitudemv  star_type  \\\n",
       "0      -0.779382       -0.598624   -0.459210              1.116745          0   \n",
       "1      -0.782110       -0.598624   -0.459241              1.162414          0   \n",
       "2      -0.828477       -0.598624   -0.459342              1.362213          0   \n",
       "3      -0.807496       -0.598624   -0.459229              1.167171          0   \n",
       "4      -0.897819       -0.598624   -0.459340              1.491607          0   \n",
       "\n",
       "  star_color spectral_class  \n",
       "0        Red              M  \n",
       "1        Red              M  \n",
       "2        Red              M  \n",
       "3        Red              M  \n",
       "4        Red              M  "
      ]
     },
     "execution_count": 113,
     "metadata": {},
     "output_type": "execute_result"
    }
   ],
   "source": [
    "data.head()"
   ]
  },
  {
   "cell_type": "code",
   "execution_count": 112,
   "metadata": {},
   "outputs": [
    {
     "name": "stderr",
     "output_type": "stream",
     "text": [
      "/Users/zhuochaozhong/anaconda3/lib/python3.7/site-packages/sklearn/preprocessing/data.py:645: DataConversionWarning: Data with input dtype int64, float64 were all converted to float64 by StandardScaler.\n",
      "  return self.partial_fit(X, y)\n",
      "/Users/zhuochaozhong/anaconda3/lib/python3.7/site-packages/sklearn/base.py:464: DataConversionWarning: Data with input dtype int64, float64 were all converted to float64 by StandardScaler.\n",
      "  return self.fit(X, **fit_params).transform(X)\n"
     ]
    }
   ],
   "source": [
    "# data[['temperature_k', 'luminosityl-lo', 'radiusr-ro', 'absolute_magnitudemv']]\n",
    "# preprocessing.scale(data[['temperature_k', 'luminosityl-lo', 'radiusr-ro', 'absolute_magnitudemv']])\n",
    "\n",
    "data[['temperature_k', 'luminosityl-lo', 'radiusr-ro', 'absolute_magnitudemv']] = preprocessing.StandardScaler().fit_transform(data[['temperature_k', 'luminosityl-lo', 'radiusr-ro', 'absolute_magnitudemv']])"
   ]
  },
  {
   "cell_type": "code",
   "execution_count": 4,
   "metadata": {},
   "outputs": [],
   "source": [
    "data.columns = data.columns.str.strip().str.lower().str.replace(' ', '_').str.replace('(', '').str.replace(')', '').str.replace('/', '-')"
   ]
  },
  {
   "cell_type": "code",
   "execution_count": 114,
   "metadata": {},
   "outputs": [],
   "source": [
    "star_color = data['star_color'].unique()\n",
    "spectral_class = data['spectral_class'].unique()"
   ]
  },
  {
   "cell_type": "code",
   "execution_count": 115,
   "metadata": {},
   "outputs": [
    {
     "name": "stdout",
     "output_type": "stream",
     "text": [
      "153 train examples\n",
      "39 validation examples\n",
      "48 test examples\n"
     ]
    }
   ],
   "source": [
    "train, test = train_test_split(data, test_size=0.2)\n",
    "train, val = train_test_split(train, test_size=0.2)\n",
    "print(len(train), 'train examples')\n",
    "print(len(val), 'validation examples')\n",
    "print(len(test), 'test examples')"
   ]
  },
  {
   "cell_type": "code",
   "execution_count": 116,
   "metadata": {},
   "outputs": [],
   "source": [
    "def df_to_dataset(df, batch_size=32):\n",
    "    \n",
    "    df = df.copy()\n",
    "    labels = df.pop('star_type')\n",
    "    ds = tf.data.Dataset.from_tensor_slices((dict(df), labels))    \n",
    "    ds = ds.batch(batch_size)\n",
    "    return ds"
   ]
  },
  {
   "cell_type": "code",
   "execution_count": 117,
   "metadata": {},
   "outputs": [],
   "source": [
    "train_ds = df_to_dataset(train)\n",
    "val_ds = df_to_dataset(val)\n",
    "test_ds = df_to_dataset(test)"
   ]
  },
  {
   "cell_type": "code",
   "execution_count": 118,
   "metadata": {},
   "outputs": [
    {
     "name": "stdout",
     "output_type": "stream",
     "text": [
      "Every feature: ['temperature_k', 'luminosityl-lo', 'radiusr-ro', 'absolute_magnitudemv', 'star_color', 'spectral_class']\n",
      "A batch of star_color: tf.Tensor(\n",
      "[b'Red' b'Red' b'Red' b'Red' b'Orange-Red' b'Red' b'Blue White'\n",
      " b'Blue-white' b'Blue white' b'Red' b'Red' b'Red' b'Red' b'Blue' b'White'\n",
      " b'Red' b'Blue' b'Blue' b'Red' b'Blue' b'Blue' b'yellow-white' b'Red'\n",
      " b'Red' b'Blue' b'Blue white' b'Red' b'Blue-white' b'Blue' b'Blue-white'\n",
      " b'Red' b'Blue-white'], shape=(32,), dtype=string)\n",
      "A batch of star_type: tf.Tensor([1 1 5 5 3 5 2 3 2 0 0 1 5 2 2 0 3 4 0 2 4 3 5 1 4 2 1 3 5 3 1 3], shape=(32,), dtype=int64)\n"
     ]
    }
   ],
   "source": [
    "for feature_batch, label_batch in train_ds.take(1):\n",
    "    print('Every feature:', list(feature_batch.keys()))\n",
    "    print('A batch of star_color:', feature_batch['star_color'])\n",
    "    print('A batch of star_type:', label_batch )"
   ]
  },
  {
   "cell_type": "code",
   "execution_count": 119,
   "metadata": {},
   "outputs": [],
   "source": [
    "example = next(iter(train_ds))[0]\n",
    "def demo(feature_column):\n",
    "    feature_layer = layers.DenseFeatures(feature_column)\n",
    "    print(feature_layer(example).numpy())"
   ]
  },
  {
   "cell_type": "code",
   "execution_count": 120,
   "metadata": {},
   "outputs": [
    {
     "data": {
      "text/plain": [
       "({'temperature_k': TensorSpec(shape=(None,), dtype=tf.float64, name=None),\n",
       "  'luminosityl-lo': TensorSpec(shape=(None,), dtype=tf.float64, name=None),\n",
       "  'radiusr-ro': TensorSpec(shape=(None,), dtype=tf.float64, name=None),\n",
       "  'absolute_magnitudemv': TensorSpec(shape=(None,), dtype=tf.float64, name=None),\n",
       "  'star_color': TensorSpec(shape=(None,), dtype=tf.string, name=None),\n",
       "  'spectral_class': TensorSpec(shape=(None,), dtype=tf.string, name=None)},\n",
       " TensorSpec(shape=(None,), dtype=tf.int64, name=None))"
      ]
     },
     "execution_count": 120,
     "metadata": {},
     "output_type": "execute_result"
    }
   ],
   "source": [
    "train_ds.element_spec"
   ]
  },
  {
   "cell_type": "code",
   "execution_count": 121,
   "metadata": {},
   "outputs": [],
   "source": [
    "feature_columns = []\n",
    "\n",
    "star_color_col = feature_column.categorical_column_with_vocabulary_list(\n",
    "    'star_color', star_color\n",
    ")\n",
    "one_hot_star_color = feature_column.indicator_column(star_color_col)\n",
    "feature_columns.append(one_hot_star_color)\n",
    "\n",
    "spectral_class_col = feature_column.categorical_column_with_vocabulary_list(\n",
    "    'spectral_class', spectral_class\n",
    ")\n",
    "one_hot_spectral_class = feature_column.indicator_column(spectral_class_col)\n",
    "feature_columns.append(one_hot_spectral_class)\n",
    "    \n",
    "for col in ['temperature_k', 'luminosityl-lo', 'radiusr-ro', 'absolute_magnitudemv']:\n",
    "    feature_columns.append(feature_column.numeric_column(col))"
   ]
  },
  {
   "cell_type": "code",
   "execution_count": 122,
   "metadata": {},
   "outputs": [],
   "source": [
    "feature_layer = tf.keras.layers.DenseFeatures(feature_columns)"
   ]
  },
  {
   "cell_type": "code",
   "execution_count": 123,
   "metadata": {},
   "outputs": [
    {
     "data": {
      "text/plain": [
       "[IndicatorColumn(categorical_column=VocabularyListCategoricalColumn(key='star_color', vocabulary_list=('Red', 'Blue White', 'White', 'Yellowish White', 'Blue white', 'Pale yellow orange', 'Blue', 'Blue-white', 'Whitish', 'yellow-white', 'Orange', 'White-Yellow', 'white', 'Blue ', 'yellowish', 'Yellowish', 'Orange-Red', 'Blue white ', 'Blue-White'), dtype=tf.string, default_value=-1, num_oov_buckets=0)),\n",
       " IndicatorColumn(categorical_column=VocabularyListCategoricalColumn(key='spectral_class', vocabulary_list=('M', 'B', 'A', 'F', 'O', 'K', 'G'), dtype=tf.string, default_value=-1, num_oov_buckets=0)),\n",
       " NumericColumn(key='temperature_k', shape=(1,), default_value=None, dtype=tf.float32, normalizer_fn=None),\n",
       " NumericColumn(key='luminosityl-lo', shape=(1,), default_value=None, dtype=tf.float32, normalizer_fn=None),\n",
       " NumericColumn(key='radiusr-ro', shape=(1,), default_value=None, dtype=tf.float32, normalizer_fn=None),\n",
       " NumericColumn(key='absolute_magnitudemv', shape=(1,), default_value=None, dtype=tf.float32, normalizer_fn=None)]"
      ]
     },
     "execution_count": 123,
     "metadata": {},
     "output_type": "execute_result"
    }
   ],
   "source": [
    "feature_columns"
   ]
  },
  {
   "cell_type": "code",
   "execution_count": 129,
   "metadata": {},
   "outputs": [],
   "source": [
    "model.reset_states()\n",
    "model = tf.keras.Sequential([\n",
    "    feature_layer,\n",
    "    tf.keras.layers.Dense(128, activation='relu'),\n",
    "    tf.keras.layers.Dense(64, activation='relu'),\n",
    "    tf.keras.layers.Dense(6, activation='softmax')\n",
    "])"
   ]
  },
  {
   "cell_type": "code",
   "execution_count": 130,
   "metadata": {},
   "outputs": [],
   "source": [
    "model.compile(optimizer='adam',\n",
    "              loss='sparse_categorical_crossentropy',\n",
    "              metrics=['accuracy'])"
   ]
  },
  {
   "cell_type": "code",
   "execution_count": 131,
   "metadata": {},
   "outputs": [
    {
     "name": "stdout",
     "output_type": "stream",
     "text": [
      "Epoch 1/20\n",
      "5/5 [==============================] - 0s 25ms/step - loss: 1.6592 - accuracy: 0.3464 - val_loss: 1.5114 - val_accuracy: 0.4103\n",
      "Epoch 2/20\n",
      "5/5 [==============================] - 0s 3ms/step - loss: 1.4702 - accuracy: 0.4902 - val_loss: 1.3248 - val_accuracy: 0.6667\n",
      "Epoch 3/20\n",
      "5/5 [==============================] - 0s 3ms/step - loss: 1.3078 - accuracy: 0.6209 - val_loss: 1.1553 - val_accuracy: 0.7436\n",
      "Epoch 4/20\n",
      "5/5 [==============================] - 0s 3ms/step - loss: 1.1581 - accuracy: 0.7320 - val_loss: 1.0013 - val_accuracy: 0.8974\n",
      "Epoch 5/20\n",
      "5/5 [==============================] - 0s 3ms/step - loss: 1.0208 - accuracy: 0.8627 - val_loss: 0.8618 - val_accuracy: 0.9487\n",
      "Epoch 6/20\n",
      "5/5 [==============================] - 0s 3ms/step - loss: 0.8939 - accuracy: 0.9150 - val_loss: 0.7384 - val_accuracy: 0.9744\n",
      "Epoch 7/20\n",
      "5/5 [==============================] - 0s 3ms/step - loss: 0.7799 - accuracy: 0.9346 - val_loss: 0.6284 - val_accuracy: 0.9744\n",
      "Epoch 8/20\n",
      "5/5 [==============================] - 0s 3ms/step - loss: 0.6775 - accuracy: 0.9477 - val_loss: 0.5322 - val_accuracy: 0.9744\n",
      "Epoch 9/20\n",
      "5/5 [==============================] - 0s 3ms/step - loss: 0.5885 - accuracy: 0.9542 - val_loss: 0.4512 - val_accuracy: 0.9744\n",
      "Epoch 10/20\n",
      "5/5 [==============================] - 0s 3ms/step - loss: 0.5126 - accuracy: 0.9608 - val_loss: 0.3838 - val_accuracy: 0.9744\n",
      "Epoch 11/20\n",
      "5/5 [==============================] - 0s 3ms/step - loss: 0.4489 - accuracy: 0.9673 - val_loss: 0.3292 - val_accuracy: 1.0000\n",
      "Epoch 12/20\n",
      "5/5 [==============================] - 0s 3ms/step - loss: 0.3967 - accuracy: 0.9673 - val_loss: 0.2855 - val_accuracy: 1.0000\n",
      "Epoch 13/20\n",
      "5/5 [==============================] - 0s 3ms/step - loss: 0.3543 - accuracy: 0.9673 - val_loss: 0.2506 - val_accuracy: 1.0000\n",
      "Epoch 14/20\n",
      "5/5 [==============================] - 0s 3ms/step - loss: 0.3195 - accuracy: 0.9673 - val_loss: 0.2227 - val_accuracy: 1.0000\n",
      "Epoch 15/20\n",
      "5/5 [==============================] - 0s 3ms/step - loss: 0.2907 - accuracy: 0.9739 - val_loss: 0.2000 - val_accuracy: 1.0000\n",
      "Epoch 16/20\n",
      "5/5 [==============================] - 0s 3ms/step - loss: 0.2665 - accuracy: 0.9739 - val_loss: 0.1814 - val_accuracy: 1.0000\n",
      "Epoch 17/20\n",
      "5/5 [==============================] - 0s 3ms/step - loss: 0.2463 - accuracy: 0.9673 - val_loss: 0.1659 - val_accuracy: 1.0000\n",
      "Epoch 18/20\n",
      "5/5 [==============================] - 0s 3ms/step - loss: 0.2290 - accuracy: 0.9869 - val_loss: 0.1528 - val_accuracy: 1.0000\n",
      "Epoch 19/20\n",
      "5/5 [==============================] - 0s 3ms/step - loss: 0.2144 - accuracy: 0.9869 - val_loss: 0.1417 - val_accuracy: 1.0000\n",
      "Epoch 20/20\n",
      "5/5 [==============================] - 0s 3ms/step - loss: 0.2015 - accuracy: 0.9869 - val_loss: 0.1321 - val_accuracy: 1.0000\n"
     ]
    },
    {
     "data": {
      "text/plain": [
       "<tensorflow.python.keras.callbacks.History at 0x7fe7d5c3a748>"
      ]
     },
     "execution_count": 131,
     "metadata": {},
     "output_type": "execute_result"
    }
   ],
   "source": [
    "model.fit(train_ds, validation_data=val_ds, epochs=20)"
   ]
  },
  {
   "cell_type": "code",
   "execution_count": null,
   "metadata": {},
   "outputs": [],
   "source": []
  }
 ],
 "metadata": {
  "kernelspec": {
   "display_name": "Python 3",
   "language": "python",
   "name": "python3"
  },
  "language_info": {
   "codemirror_mode": {
    "name": "ipython",
    "version": 3
   },
   "file_extension": ".py",
   "mimetype": "text/x-python",
   "name": "python",
   "nbconvert_exporter": "python",
   "pygments_lexer": "ipython3",
   "version": "3.7.3"
  }
 },
 "nbformat": 4,
 "nbformat_minor": 2
}
